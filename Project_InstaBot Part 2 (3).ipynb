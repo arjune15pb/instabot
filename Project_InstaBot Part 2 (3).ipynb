{
 "cells": [
  {
   "cell_type": "markdown",
   "metadata": {},
   "source": [
    "# InstaBot - Part 2\n",
    "1. Now your friend has followed a lot of different food bloggers, he needs to analyse the habits of these bloggers.\n",
    "   1. From the list of instagram handles you obtained when you searched ‘food’ in previous project. Open the first 10 handles and           find the top 5 which have the highest number of followers\n",
    "   2. Now Find the number of posts these handles have done in the previous 3 days.\n",
    "   3. Depict this information using a suitable graph.\n",
    "2. Your friend also needs a list of hashtags that he should use in his posts.\n",
    "   1. Open the 5 handles you obtained in the last question, and scrape the content of the first 10 posts of each handle.\n",
    "   2. Prepare a list of all words used in all the scraped posts and calculate the frequency of each word.\n",
    "   3. Create a csv file with two columns : the word and its frequency\n",
    "   4. Now, find the hashtags that were most popular among these bloggers\n",
    "   5. Plot a Pie Chart of the top 5 hashtags obtained and the number of times they were used by these bloggers in the scraped posts.\n",
    "3. You need to also calculate average followers : likes ratio for the obtained handles.\n",
    "      Followers : Likes ratio is calculated as follows:\n",
    "   1. Find out the likes of the top 10 posts of the 5 handles obtained earlier.\n",
    "   2. Calculate the average likes for a handle.\n",
    "   3. Divide the average likes obtained from the number of followers of the handle to get the average followers:like ratio of each         handle.\n",
    "   4. Create a bar graph to depict the above obtained information."
   ]
  },
  {
   "cell_type": "markdown",
   "metadata": {},
   "source": [
    "# ------------------------------------------------------------------------------------------------------------"
   ]
  },
  {
   "cell_type": "markdown",
   "metadata": {},
   "source": [
    "# --------------------------------------------------------------------------------------------------------"
   ]
  },
  {
   "cell_type": "markdown",
   "metadata": {},
   "source": [
    "### For Running this kernal , enter username and password inplace of SAMPLE USERNAME and SAMPLE PASSWORD in second cell respectively"
   ]
  },
  {
   "cell_type": "markdown",
   "metadata": {},
   "source": [
    "1. Now your friend has followed a lot of different food bloggers, he needs to analyse the habits of these bloggers.\n",
    "   1.1 From the list of instagram handles you obtained when you searched ‘food’ in previous project. Open the first 10 handles          and find the top 5 which have the highest number of followers"
   ]
  },
  {
   "cell_type": "code",
   "execution_count": 1,
   "metadata": {},
   "outputs": [],
   "source": [
    "#importing library and class for webdriver and for explicte waiting\n",
    "from selenium import webdriver\n",
    "from selenium.webdriver.support.ui import WebDriverWait#for using explicite waiting\n",
    "from selenium.webdriver.support import expected_conditions as EC# for locating certain element\n",
    "from selenium.webdriver.common.by import By# for by which condition we want to locate\n",
    "import time"
   ]
  },
  {
   "cell_type": "code",
   "execution_count": 2,
   "metadata": {},
   "outputs": [],
   "source": [
    "# executing a new chrome driver to open Instagram and login into it\n",
    "\n",
    "driver=webdriver.Chrome(executable_path=\"/Users/karna/Desktop/chromedriver\")\n",
    "driver.maximize_window()\n",
    "\n",
    "#driver opening website of Instagram\n",
    "driver.get(\"https://www.instagram.com/\")\n",
    "\n",
    "# it is for explicite waiting for 10 sec, when ever waiting required We will use it \n",
    "wait=WebDriverWait(driver,10)\n",
    "\n",
    "#locating the area where we can enter username\n",
    "email1=wait.until(EC.presence_of_element_located((By.CLASS_NAME,\"_2hvTZ\")))\n",
    "\n",
    "#entering the usename\n",
    "email1.send_keys(\"SAMPLE USERNAME\")\n",
    "\n",
    "#locating the area and sending the password\n",
    "driver.find_element_by_name(\"password\").send_keys(\"SAMPLE PASSWORD\")\n",
    "\n",
    "#now submiting the username and password\n",
    "driver.find_element_by_class_name(\"sqdOP\").submit()\n",
    "\n",
    "#locating the popup-window\n",
    "clickable=wait.until(EC.presence_of_element_located((By.CLASS_NAME,\"cmbtv\")))\n",
    "clickable.click()\n",
    "\n",
    "#locating againg the popup_window\n",
    "clickable=wait.until(EC.presence_of_element_located((By.CLASS_NAME,\"HoLwm\")))\n",
    "clickable.click()"
   ]
  },
  {
   "cell_type": "code",
   "execution_count": 3,
   "metadata": {},
   "outputs": [
    {
     "name": "stdout",
     "output_type": "stream",
     "text": [
      "Top 5 Handles:  Number of Followers \n",
      "\n",
      "foodnetwork  :  10266193\n",
      "foodgod  :  3603786\n",
      "foodinsider  :  2175425\n",
      "dilsefoodie  :  487759\n",
      "foodtalkindia  :  297076\n"
     ]
    }
   ],
   "source": [
    "import time\n",
    "driver.get(\"https://www.instagram.com/\")\n",
    "driver.find_element_by_class_name(\"pbgfb\").click()# locating the search bar\n",
    "driver.find_element_by_class_name(\"XTCLo\").send_keys(\"food\")# searching food\n",
    "food_list=wait.until(EC.presence_of_all_elements_located((By.CLASS_NAME,\"Ap253\")))# making list of searched object when food is searched\n",
    "for i in range(10):\n",
    "    food_list[i]=food_list[i].text #extracting the username of searched object\n",
    "follower=[]# list which will save name of blogger and its number of followers\n",
    "driver.get(\"https://www.instagram.com/\")\n",
    "for i in food_list[0:10]:# repeating below process for first 10 blogger\n",
    "    searchbar=wait.until(EC.presence_of_element_located((By.CLASS_NAME,\"pbgfb\")))\n",
    "    searchbar.click()\n",
    "    driver.find_element_by_class_name(\"XTCLo\").send_keys(i)\n",
    "    enter_to=wait.until(EC.presence_of_element_located((By.CLASS_NAME,\"Ap253\")))\n",
    "    enter_to.click()\n",
    "    follower_number=wait.until(EC.presence_of_element_located((By.XPATH,\"//ul[@class='k9GMp ']//a/span\")))# locating the follower button\n",
    "    follower_number=int(follower_number.get_attribute('title').replace(',',\"\"))# extracting the number of followers\n",
    "\n",
    "    follower.append([follower_number,i])\n",
    "    driver.get(\"https://www.instagram.com/\")\n",
    "follower.pop(6)# removing it because there is also blogger with name 'food', and as on typing food in search bar first option is not this blogger\n",
    "\n",
    "follower.sort()# it sort according to number of followers\n",
    "follower=follower[4:9]# selecting the first 5 highest follower numbers\n",
    "follower.reverse()\n",
    "print(\"Top 5 Handles:  Number of Followers \")\n",
    "print()\n",
    "for i in range(5):\n",
    "    print(follower[i][1],\" : \",follower[i][0])\n",
    "\n",
    "driver.get(\"https://www.instagram.com/\")\n",
    "\n",
    "    \n",
    "    "
   ]
  },
  {
   "cell_type": "markdown",
   "metadata": {},
   "source": [
    "# --------------------------------------------------------------------------------------------------------"
   ]
  },
  {
   "cell_type": "markdown",
   "metadata": {},
   "source": [
    "1. Now your friend has followed a lot of different food bloggers, he needs to analyse the habits of these bloggers.\n",
    "   1.2 Now Find the number of posts these handles have done in the previous 3 days."
   ]
  },
  {
   "cell_type": "code",
   "execution_count": 4,
   "metadata": {},
   "outputs": [
    {
     "name": "stdout",
     "output_type": "stream",
     "text": [
      "Top 5 Blogger   Number of Posts\n",
      "foodnetwork  :  28\n",
      "foodgod  :  0\n",
      "foodinsider  :  1\n",
      "dilsefoodie  :  2\n",
      "foodtalkindia  :  4\n"
     ]
    }
   ],
   "source": [
    "driver.get(\"https://www.instagram.com/\")\n",
    "blogger_post=[]# will contain the list of blogger name and its number of post in the previous 3 days\n",
    "for i in range(5):# this loop continue for top 5 blogger\n",
    "    post_number=0\n",
    "    searchbar=wait.until(EC.presence_of_element_located((By.CLASS_NAME,\"pbgfb\")))\n",
    "    searchbar.click()\n",
    "    driver.find_element_by_class_name(\"XTCLo\").send_keys(follower[i][1])# searching each blogger in search bar\n",
    "    \n",
    "    enter_to=wait.until(EC.presence_of_element_located((By.CLASS_NAME,\"Ap253\")))\n",
    "    enter_to.click() # clicking on searched blogger\n",
    "    time.sleep(3)\n",
    "    post=wait.until(EC.presence_of_element_located((By.CLASS_NAME,\"eLAPa\")))# locating the first post\n",
    "\n",
    "    a=post\n",
    "    a.click()# clicking on first post\n",
    "\n",
    "    while(True):# this loop is till the post who is uploaded under 3 days\n",
    "        timing=wait.until(EC.presence_of_element_located((By.CLASS_NAME,\"_1o9PC \")))# locating the time of posted\n",
    "        \n",
    "        timing=str(timing.text)# converting time of posted into string\n",
    "        \n",
    "        timing=timing.split(' ')\n",
    "        if(timing[1]==\"HOURS\" or timing[1]==\"HOUR\" or timing[1]==\"MINUTES\" or timing[1]==\"MINUTE\"):# if time contains hours,minutes, then it must be discarded as it doesnot come under previous 3 days\n",
    "            driver.find_element_by_class_name(\"coreSpriteRightPaginationArrow\").click()# clicking on next post\n",
    "            continue\n",
    "        elif(timing[1]==\"DAYS\" or timing[1]==\"DAY\"):# if time contains day, then it can be cared for under 3 days\n",
    "            if(int(timing[0])<=3):\n",
    "                post_number+=1\n",
    "            else:\n",
    "                break\n",
    "        else:\n",
    "            break\n",
    "        driver.find_element_by_class_name(\"coreSpriteRightPaginationArrow\").click()# clicking on next post\n",
    "\n",
    "    blogger_post.append([follower[i][1],post_number])# appending the post if it is in under time\n",
    "    driver.get(\"https://www.instagram.com/\")# again refreshing the page for other blogger posts\n",
    "\n",
    "\n",
    "print(\"Top 5 Blogger   Number of Posts\")\n",
    "for i in blogger_post:\n",
    "    print(i[0],\" : \",i[1])\n",
    "\n",
    "    "
   ]
  },
  {
   "cell_type": "markdown",
   "metadata": {},
   "source": [
    "# --------------------------------------------------------------------------------------------------------"
   ]
  },
  {
   "cell_type": "markdown",
   "metadata": {},
   "source": [
    "1. Now your friend has followed a lot of different food bloggers, he needs to analyse the habits of these bloggers.\n",
    "   1.3 Depict this information using a suitable graph."
   ]
  },
  {
   "cell_type": "code",
   "execution_count": 5,
   "metadata": {},
   "outputs": [
    {
     "data": {
      "image/png": "[encoded data removed]",
      "text/plain": [
       "<Figure size 432x288 with 1 Axes>"
      ]
     },
     "metadata": {
      "needs_background": "light"
     },
     "output_type": "display_data"
    },
    {
     "name": "stdout",
     "output_type": "stream",
     "text": [
      "****************************************************************************************************************************\n"
     ]
    },
    {
     "data": {
      "image/png": "[encoded data removed]",
      "text/plain": [
       "<Figure size 432x288 with 1 Axes>"
      ]
     },
     "metadata": {
      "needs_background": "light"
     },
     "output_type": "display_data"
    }
   ],
   "source": [
    "blogger=[]\n",
    "posts=[]\n",
    "followers=[]\n",
    "for i in range(5):\n",
    "    blogger.append(follower[i][1])# appending the name of blogger\n",
    "    followers.append(follower[i][0])# appending the number of followers of each blogger\n",
    "    posts.append(blogger_post[i][1])# appending the number of posts posted by blogger in previous 3 days\n",
    "import matplotlib.pyplot as plt\n",
    "plt.bar(blogger,followers)\n",
    "plt.xlabel(\"Top 5 Bloggers\")\n",
    "plt.title(\"Bloggers and Followers\")\n",
    "plt.ylabel(\"Number of Followers(10^7)\")\n",
    "plt.show()\n",
    "print(\"****************************************************************************************************************************\")\n",
    "plt.bar(blogger,posts)\n",
    "plt.title(\"Bloggers and Posts\")\n",
    "plt.xlabel(\"Top 5 Bloggers\")\n",
    "plt.ylabel(\"Number of Posts\")\n",
    "plt.show()\n"
   ]
  },
  {
   "cell_type": "markdown",
   "metadata": {},
   "source": [
    "# ------------------------------------------------------------------------------------------------------------"
   ]
  },
  {
   "cell_type": "markdown",
   "metadata": {},
   "source": [
    "# --------------------------------------------------------------------------------------------------------"
   ]
  },
  {
   "cell_type": "markdown",
   "metadata": {},
   "source": [
    "2. Your friend also needs a list of hashtags that he should use in his posts.\n",
    "   2.1 Open the 5 handles you obtained in the last question, and scrape the content of the first 10 posts of each handle."
   ]
  },
  {
   "cell_type": "code",
   "execution_count": 6,
   "metadata": {},
   "outputs": [
    {
     "name": "stdout",
     "output_type": "stream",
     "text": [
      "foodnetwork  :  [\"foodnetwork\\nVerified\\nYou'll want to add @conantnyc's Spaghetti with Shrimp, Mussels and Baby Tomatoes to your dinner rotation ASAP — trust us 😍Make it with Scott as he goes LIVE on the @foodnetworkkitchen app tomorrow at 4|3c. Download the app with the link in our bio, and start coming up with your questions now.\\n4h\", 'foodnetwork\\nVerified\\nCaribbean Jerk Sliders (with @chefeddiejackson)\\n\\n@ChefEddieJackson turns up the HEAT with a spicy jerk dry rub on these cheese-smothered, onion ring-topped sliders.\\n\\n#TheKitchen > Saturdays at 11a|10c\\n\\nGet the recipe now on your @FoodNetworkKitchen app!\\n6h', \"foodnetwork\\nVerified\\nA cake topped with juicy clementine slices is the sunshine we need today ☀️🍊 Click the link in our bio to take @emcdowell's Clementine Polenta Cake on your @FoodNetworkKitchen app!\\n8h\", 'foodnetwork\\nVerified\\nNo one knows the restaurant industry quite like @chefirvine. As more and more businesses prepare to reopen these days, many restaurant owners and guests alike are wondering what he’d suggest for moving forward when dining out. Leave your questions for Robert below ⬇️, and he may answer them on an upcoming episode of #RestaurantImpossible.\\n10h', \"foodnetwork\\nVerified\\n@bobbyflay's Avocado Tips\\n\\nUp your avocado knowledge with these helpful tips from @bobbyflay (including how to avoid disaster when taking the pit out!) 🥑\\n\\nGet more tips from Bobby's on-demand classes on the @foodnetworkkitchen app.\\n10h\", 'foodnetwork\\nVerified\\n✨Coming Soon✨\\n・・・\\n#Repost @amyschumer\\n・・・\\nIt’s official we are back for another season of #amyschumerlearnstocook on @foodnetwork as announced by @variety 🍳\\n12h', 'foodnetwork\\nVerified\\nHow to Make American Flag Ice Cream Cake\\n\\nRecipe of the Day: American Flag Ice Cream Cake 🇺🇸 Save the recipe on your @foodnetworkkitchen app today with the link in our bio!\\n12h', \"foodnetwork\\nVerified\\nSkip Traditional Shrimp Cocktail for THIS 😍🍤\\n\\nTry @Guarnaschelli's flavorful poached shrimp with creamy aioli!\\n\\nWatch #SupermarketStakeout: What Would Alex Make > Tonight at 10|9c.\\n\\nFind the recipe for Poached Shrimp with Bay Leaves and Lemon your @FoodNetworkKitchen app.\\n16h\", 'foodnetwork\\nVerified\\nClass of the Day: Rib Steak Tagliata 🥩 Learn how to marinate and then perfectly grill an aged rib steak with @ChefLomonaco. Click the link in our bio to take his class on the @FoodNetworkKitchen app!\\n17h', 'foodnetwork\\nVerified\\n@ChefMarkEstee is going undercover to expose and fix the bad behavior and food issues that are causing good restaurants to fail. \\u2060\\n\\u2060\\nNew series #UndercoverChef premieres > Thursday 10|9c.\\n1d']\n",
      "\n",
      "\n",
      "foodgod  :  ['foodgod\\nVerified\\nBIG SURPRISE!!\\n10h', 'foodgod\\nVerified\\nAre you trying Ice Jelly with me or NOT???\\u2063\\n\\u2063\\n\\u2063\\n📹 @kuliner_lampung\\n5d', 'foodgod\\nVerified\\n@EnjoyNoshMates new Watermelon 🍉 Fruit Jerky\\n\\nis the greatest thing since sliced bread 😍\\nGo grab your own now at @Costco #NoshMatespartner #Costco\\n1w', 'foodgod\\nVerified\\nCan you guess what it is??\\u2063\\n\\u2063\\u2063\\n\\u2063\\u2063\\n📹 Kwai/ddtv1111\\n1w', 'foodgod\\nVerified\\nGiving away gift cards to your favorite restaurants 🍕 🍔 🍜 ... 🎰 Here’s your chance to win 👉🏻 My new game is now available to download (link in my bio) It’s free to play and free to download!! @celebrityslotsofficial\\n#CelebritySlotsPartner #CelebritySlots \\u2063\\n#🎰📲\\n2w', 'foodgod\\nVerified\\nMy cameo in the hottest video in Russia. Thanks @timatiofficial 🍭🔥🍬\\n2w', 'foodgod\\nVerified\\nOn a scale from 1-10 how satisfying is this?! 😍\\u2063\\u2063🍜\\n\\u2063\\u2063\\n\\u2063\\n📹 1912284641 (Kwai)\\u2063\\u2063\\n3w', 'foodgod\\nVerified\\nMissing the Cannes Film Festival!! What events are you missing out on??\\n6w', 'foodgod\\nVerified\\nShould this be a dark, milk, or white chocolate pool??\\u2063\\n\\u2063\\n📹@mrhalawa\\n9w', 'foodgod\\nVerified\\nI built my own gym w/ @vodkabeluga .. who wants one? ad\\n\\nwatch till ending... a surprise🚲🌙\\n10w']\n",
      "\n",
      "\n",
      "foodinsider  :  [\"foodinsider\\nVerified\\nHerrine makes New York's best pizza at home with Lucali Chef Mark Iacono\\n\\n@lucali_bk is one of the most popular pizza restaurants in New York City. Chef and owner Mark Iacono teaches Insider’s @rinnny_ how to make the best home-cooked version of his famous margherita pie. The ingredients used include pantry staples and common grocery-store cheeses.\\n\\nDOUGH:\\n33.6 ounces of water\\n3 1/2 pounds of flour\\n0.3 ounces of yeast\\n2 Tablespoons extra virgin olive oil\\n2 Tablespoons of salt\\nPut room temperature water in a large mixing bowl.\\nRemove a cup of water and dissolve the salt in it.\\nAdd the yeast in the mixing bowl and dissolve. Then add your olive oil and stir.\\nAdd 25% of your flour to the water and mix until smooth.\\nAdd the salt water and mix for approximately 15 seconds, add the remaining flour. Mix/knead for approximately 10 minutes.\\nWhen finished kneading, cover dough with saran wrap and let rest for 45 minutes.\\nCut the dough into eight, 10-ounce balls.\\nBaste with EVOO, then cover with saran wrap and let rise in the refrigerator for six hours to overnight.\\n\\nTOMATO SAUCE:\\nYellow onion, finely chopped\\nGarlic, minced\\nDry oregano\\nCanned tomato sauce\\nSalt\\nPepper\\nSugar\\nBasil\\nCHEESE:\\nLow moisture mozzarella\\nBufala mozzarella (or fresh mozzarella)\\nGrated parmesan cheese\\n\\n#pizza #pizzaBK #food #FoodInsider #nyc\\n10h\", \"foodinsider\\nVerified\\nThe best Chicago-style hot dog in Chicago Best In Town\\n\\nInsider’s @rinnny_ and friend @spriinkles visit Chicago to find the best Chicago-style hot dogs in the city. They visit Superdawg Drive-In, Gene and Jude's, and Portillo's to find the best in town.\\n\\nEditor’s note: This episode was filmed in February 2020. All restaurants remain closed to dine-in service, but are still open.\\n\\nFeaturing @superdawgdrivein, @geneandjudeschicago,and @portilloshotdogs.\\n\\n#hotdogs🌭#hotdog #Chicago #Chicagodogs #FoodInsider\\n1d\", \"foodinsider\\nVerified\\nHow French baguettes are made in Paris | Regional Eats\\n\\nIn this episode, baker Mahmoud M’seddi welcomes us into his bakery @maisonmseddi in Paris’ 14th district where his award-winning baguettes come to life. Making a baguette is a complex and time-consuming process that requires a lot of dedication, skill, expertise, but most of all, patience. In 2018, Mahmoud was awarded the Grand Prix de la Baguette by the city of Paris.\\nEditor's note: This footage was filmed on February 12, 2020.\\n\\n#Paris #baguette #bread #Frenchfood #food #FoodInsider\\n4d\", 'foodinsider\\nVerified\\nWhy Lucali Is The Most Legendary Pizza Restaurant In Brooklyn | Legendary E\\n\\nMark Iacono’s restaurant, @lucali_bk, is arguably the most famous pizza place in Brooklyn. The restaurant does not take reservations, and lines form out the door hours before opening time. INSIDER’s @rinnny_ visits the restaurant and attempts to make Mark’s unique style of pizza.\\n\\n#pizza #Brooklyn #nyc #nycfoodies #FoodInsider\\n5d', \"foodinsider\\nVerified\\n11 gadgets that will cut your food-prep time in half\\n\\nWe looked at 11 gadgets that will cut your food-prep time in half, including tools that will peel eggs for you, spiralize your vegetables, and cut all your round produce at once. The tools can make prepping ingredients quicker and less tedious, especially if you're making a lot of food at once.\\n\\n#gadgets #foodprep #food #tools #FoodInsider\\n6d\", 'foodinsider\\nVerified\\nMove over mini pancakes and muffins, croissants are the latest breakfast items converted into a tiny cereal version. Click the link in bio to learn the delicious recipe.\\u2063\\n\\u2063\\u2063\\n\\u2063#croissant #cereal #breakfast #dessert\\u2063\\n\\u2063\\u2063\\n\\u2063(Credit: ChefSteps)\\n6d', \"foodinsider\\nVerified\\nPeople waited 3 hours in line to try Noma's new burger | Superlatives\\n\\nAfter closing for a few months like many other restaurants, famed Copenhagen restaurant @nomacph recently reopened as a burger and wine bar. Typically, Noma is an exclusive and expensive dining experience, as it's widely considered one of the best restaurants in the world. But with this new pop-up bar, customers haven't had to wait months for a reservation. Rather, they can come by on a walk-in basis and eat beside the water or at picnic tables set up outside. With the choice for either a meat or veggie burger, lines of customers have waited up to three hours to have their meal.\\n\\n#dining #Noma #copenhagen🇩🇰 #burgers #food #FoodInsider\\n1w\", 'foodinsider\\nVerified\\nEven the smallest of recipe changes can impact the way your banana bread turns out. Click the link in bio to see what happens if you use too much or not enough of an ingredient.\\u2063\\n\\u2063\\u2063\\n\\u2063#bananabread #baking #food \\u2063\\n\\u2063\\u2063\\n\\u2063(Credit: @raskinasi, Eileen Cofre/ Insider)\\n1w', 'foodinsider\\nVerified\\nGarrett\\'s Makes Chicago\\'s Most Iconic Popcorn | Legendary Eats\\n\\nPopcorn is Illinois\\' official snack food, and @garrettpopcorn has been serving some of the best handcrafted popcorn in the state since 1949. The secret family recipe that\\'s been handed down over three generations is still made in old-fashioned copper kettles with kernels that are grown just for the company. There\\'s almost always a line at all Garrett Popcorn shops, so Insider\\'s @medhapedia visited one to see how the iconic mix is made and why it\\'s one of Oprah\\'s \"Favorite Things.\" Editor\\'s Note: Insider visited Garrett Popcorn in March 2020, before Chicago restaurants closed to dine in service. You can still order popcorn and more for pickup and delivery.\\n\\n#popcorn #Chicago #food #Illinois #FoodInsider\\n1w', 'foodinsider\\nVerified\\nHow restaurants made 800,000 meals (and counting) for frontline workers\\n\\nNonprofits Frontline Foods and Off Their Plate are paying local restaurants across the country to make meals for frontline workers fighting COVID-19. So far, the programs have made and delivered 800,000 meals. We spoke with two restaurants, @goldendinerny and @blackbarnrestaurant, about the costly and difficult process of keeping their restaurants open.\\n\\n#restaurants #food #COVID19 #coronavirus #BusinessInsider\\n1w']\n",
      "\n",
      "\n",
      "dilsefoodie  :  ['dilsefoodie\\nVerified\\nSeekh Kebab Biryani\\n\\nVery Easy To Make 😬\\nTry This Recipe And Tag Me In Stories\\n#dilsefoodie\\n12h', \"dilsefoodie\\nVerified\\nBest One In Ramesh Nagar - Tandoori Momos\\n\\nAccording to my me this is the best tandoori momos I ever had in my life thought it's veg but still taste is 💕. Location : Shah Ji Di Hatti, Ramesh Nagar\\n#dilsefoodie\\n1d\", 'dilsefoodie\\nVerified\\nI am very happy and excited to announce that I am nominated for SocialMax Awards 2020 by @nowmax_info\\nSupport me with your likes and wishes.\\n#dilsefoodie\\n#SocialMaxAwards2020 #NowMax #worldsocialmediaday #firstonlinesocialmediaawards #stayhome #staysafe\\n3d', 'dilsefoodie\\nVerified\\nSanjay Ke Special Chole Kulche In Model Town 3\\n\\nAmazing Spicy Tawa Fry Chole Kulche\\n#dilsefoodie\\n4d', \"dilsefoodie\\nVerified\\nPaneer Lababdar Recipe\\n\\nVery Easy To Make Paneer Lababdar Step By Step Recipe.\\nMy Dear All Professional Chefs, Food Critics And Negative People I Am Not A Profession Chef I Am Just A Home Chef And Cooking Is My Passion And I don't Even Force People To Follow My Recipes.\\n#dilsefoodie\\n5d\", 'dilsefoodie\\nVerified\\nGoan Fish Curry Recipe\\n\\nVery Easy To Make Fish Curry 😁\\nTag That Friend Who Would Love To Try This Recipe.\\nThanks @arjun_budhiraja For Fresh Raw Fish Direct From Gazipur Mandi.\\n#dilsefoodie #FoodFood #Fishcurry\\n6d', 'dilsefoodie\\nVerified\\nComputerized Chole Kulche\\n\\nAmazing Place To Have Chole Kulche 😊\\n#dilsefoodie\\n6d', 'dilsefoodie\\nVerified\\nStuffed WHOLE CHICKEN BIRYANI By London Chef @chefmahendraraj\\n\\nAmazing Recipe Of Biryani\\n#dilsefoodie #FoodFood #Biryani\\n1w', 'dilsefoodie\\nVerified\\nChicken Rarra Recipe\\n\\nFirst Time Made Chicken Rarra\\n#dilsefoodie #chickenrarra\\n1w', 'dilsefoodie\\nVerified\\nPaneer Butter Masala Recipe\\n\\nSimple And Best Recipe 💕\\nTag Only Paneer Lovers\\n#dilsefoodie #food #paneer\\n1w']\n",
      "\n",
      "\n",
      "foodtalkindia  :  ['foodtalkindia\\nVerified\\nEasy Fudgy Brownies \\nIn the kitchen with @anjali__batra .\\n\\nIngredients: \\n.\\n1 stick of @amul_india salted butter { 100 grams}\\n1 cup @amul_india dark chocolate { 130 grams}\\n1 cup all purpose flour { 120 grams}\\n1 cup sugar { 190 grams of powered sugar}\\n1 tsp. vanilla essence\\n2 eggs\\nTip. Add a shot or espresso or 1 tsp. Coffee mixed with hot water to the melted chocolate { to intensify the chocolate } .\\n\\nMethod: \\n.\\nMelt the chocolate and butter. \\nSieve the flour. \\nKeep the powdered sugar ready. \\nBeat the eggs and powdered sugar till pale yellow put the melted chocolate and butter beat it again just to incorporate now put the sieved flour and vanilla essence beat it again (don’t over beat it) pour the mixture into a baking pan lined with parchment paper and bake for 20-25mins at 180 degrees preheated oven.\\n21h', 'foodtalkindia\\nVerified\\nWho knew social distancing could be this adorable? 🐻 .\\n.\\n📸: @lechoupinetparis\\n1d', 'foodtalkindia\\nVerified\\nA tribute to PRIDE, with these exquisite rainbow coloured home-made dim sums! 😍\\n.\\n.\\n\\nTag a DimSum lover!🥟\\n🌈HAPPY PRIDE🌈\\n\\nCredits: @taramilktea & @parambanana\\n1d', 'foodomania\\nYeah that’ll do it 😂😂😂\\n2d2 likesReply', 'foodtalkindia\\nVerified\\n@bain_marie_patisserie has had a humble beginning of acing the classic Tiramisu, one that transports you to the streets of Italy.\\nThey have since progressed to other desserts, all based on the core belief that top quality ingredients and loads of love lead to desserts you can never forget.\\nDM them and order a dish that you won’t stop dreaming about now!\\nDelivering in Delhi NCR\\n\\nContact details: 9999931349\\n2d', 'foodtalkindia\\nVerified\\n🧘🏼\\u200d♀️ 💊\\n4d', 'foodtalkindia\\nVerified\\nFrom Bacon Stout Marmalade to Bacon Bourbon Relish and many more, @nomadfoodproject , the brainchild of Advaith and Aditya started with their undying love for bacon. They make savoury jams and relishes, which are non-conventional yet using ingredients that you really connect to, be it their flavour or texture. These savoury jams and relishes are basically happiness in a jar full of flavours.\\nHere are our top picks of what you must-try: .\\nThe Bacon Stout Marmalade .\\nThe Bacon Bourbon Relish .\\nThe Mango Chilli Jam .\\nYou wouldn’t want a spoon of it, you’d ask for a spoon with it!\\nHead to the link in their bio and grab your jar now!\\n5d', 'foodtalkindia\\nVerified\\n#KitchenHacks #EggSubstitutes .\\nA recent vegan or running low on eggs ? We have a list of handy list you can use when baking or cooking.\\n#BookmarkForLater\\n6d', 'foodtalkindia\\nVerified\\n#EasyHack #CreamCheese\\nHere’s @shivesh17 with a small snippet of how to make cream cheese at home!\\nIt’s an expensive ingredient and also very difficult to procure, especially during the lockdown. .\\nA super simple recipe using pantry staples. You can use this cream cheese to make cream cheese frosting, cheesecakes or any other cream cheese dessert!\\n1w', 'foodtalkindia\\nVerified\\n@plumbybentchair introduces you to the world of D.I.Y with its #Plumazing D.I.Y. meal kit. Bringing forth an array of dishes, ranging from meal bowls to Asian pot to gyozas, let your inner chef come out and prepare food that is safe and tastes just like Plum by Bent Chair but is prepared by YOU!\\nAll you have to do is follow simple instructions to create the magic of Plum at home.\\n1. Choose your meal \\n2. Unpack and follow simple instructions\\n3. Create a #Plumazing meal yourself!\\n\\nPlum by Bent Chair ensures that the deliver to you is safe, fresh, and nothing less than #Plumazing.\\nThe menu is available on all popular delivery apps and our website directly. You can also pick up your order from the Janpath outlet.\\n1w']\n",
      "\n",
      "\n"
     ]
    }
   ],
   "source": [
    "driver.get(\"https://www.instagram.com/\")\n",
    "\n",
    "content_of_post={}# dictionary in which keys are blogger names and values is list of content of first 10 posts\n",
    "content_of_word=[]#  basically it contains the word of each blogger posts as string\n",
    "for i in range(5):# this loop continues for each blogger\n",
    "    post_number=0\n",
    "    content_of_post[blogger[i]]=[]# adding new keys with blogger name\n",
    "    driver.find_element_by_class_name(\"pbgfb\").click()# locating search bar\n",
    "    driver.find_element_by_class_name(\"XTCLo\").send_keys(blogger[i])# searching blogger\n",
    "    enter_to=wait.until(EC.presence_of_element_located((By.CLASS_NAME,\"Ap253\")))\n",
    "    enter_to.click()# clicking on searched blogger\n",
    "    time.sleep(3)\n",
    "    post=driver.find_element_by_class_name(\"eLAPa\")# locating the first post\n",
    "    post.click()\n",
    "    for j in range(10):\n",
    "        tex=wait.until(EC.presence_of_element_located((By.CLASS_NAME,\"C4VMK\")))# locating the content of post\n",
    "\n",
    "        content_of_post[blogger[i]].append(tex.text)# appending the content of post\n",
    "        content_of_word=content_of_word+(tex.text).split()# adding content of post as words\n",
    "        driver.find_element_by_class_name(\"coreSpriteRightPaginationArrow\").click()# clicking for next post\n",
    "    driver.get(\"https://www.instagram.com/\")\n",
    "for i in content_of_post:\n",
    "    print(i,\" : \",content_of_post[i])\n",
    "    print()\n",
    "    print()\n",
    "        "
   ]
  },
  {
   "cell_type": "markdown",
   "metadata": {},
   "source": [
    "# --------------------------------------------------------------------------------------------------------"
   ]
  },
  {
   "cell_type": "markdown",
   "metadata": {},
   "source": [
    "2. Your friend also needs a list of hashtags that he should use in his posts.\n",
    "   2.2 Prepare a list of all words used in all the scraped posts and calculate the frequency of each word.\n"
   ]
  },
  {
   "cell_type": "code",
   "execution_count": 7,
   "metadata": {},
   "outputs": [
    {
     "name": "stdout",
     "output_type": "stream",
     "text": [
      "               Word  Frequency\n",
      "0               the         77\n",
      "1               and         59\n",
      "2                to         52\n",
      "3          Verified         49\n",
      "4                of         38\n",
      "...             ...        ...\n",
      "1240      nominated          1\n",
      "1241           Salt          1\n",
      "1242             No          1\n",
      "1243          4|3c.          1\n",
      "1244  #chickenrarra          1\n",
      "\n",
      "[1245 rows x 2 columns]\n"
     ]
    }
   ],
   "source": [
    "import pandas as pd\n",
    "content_of_postseries=pd.Series(content_of_word)# as content_of_word variable is obtained before, here converting list of word into series\n",
    "frequency_of_each_word=content_of_postseries.value_counts()# counting the each word appered\n",
    "word=frequency_of_each_word.index\n",
    "frequency=frequency_of_each_word.values\n",
    "df=pd.DataFrame(word,columns=[\"Word\"])\n",
    "df[\"Frequency\"]=frequency\n",
    "print(df)\n",
    "\n"
   ]
  },
  {
   "cell_type": "markdown",
   "metadata": {},
   "source": [
    "# --------------------------------------------------------------------------------------------------------"
   ]
  },
  {
   "cell_type": "markdown",
   "metadata": {},
   "source": [
    "2. Your friend also needs a list of hashtags that he should use in his posts.\n",
    "   2.3. Create a csv file with two columns : the word and its frequency"
   ]
  },
  {
   "cell_type": "code",
   "execution_count": 8,
   "metadata": {},
   "outputs": [],
   "source": [
    "df.to_csv('word_frequency',index=False) # converting pandas dataframe to csv file with name \"word_frequency\""
   ]
  },
  {
   "cell_type": "markdown",
   "metadata": {},
   "source": [
    "# --------------------------------------------------------------------------------------------------------"
   ]
  },
  {
   "cell_type": "markdown",
   "metadata": {},
   "source": [
    "2. Your friend also needs a list of hashtags that he should use in his posts.\n",
    "   2.4. Now, find the hashtags that were most popular among these bloggers\n"
   ]
  },
  {
   "cell_type": "code",
   "execution_count": 9,
   "metadata": {},
   "outputs": [
    {
     "name": "stdout",
     "output_type": "stream",
     "text": [
      "#dilsefoodie\n"
     ]
    }
   ],
   "source": [
    "hashtag=content_of_postseries[content_of_postseries.str.startswith('#')]# only selecting that words from series with starts with '#'\n",
    "print(hashtag.value_counts().index[0])#delsefoodie is popular because it appears most number of times i.e 10 times"
   ]
  },
  {
   "cell_type": "markdown",
   "metadata": {},
   "source": [
    "# --------------------------------------------------------------------------------------------------------"
   ]
  },
  {
   "cell_type": "markdown",
   "metadata": {},
   "source": [
    "2. Your friend also needs a list of hashtags that he should use in his posts.\n",
    "   2.5 Plot a Pie Chart of the top 5 hashtags obtained and the number of times they were used by these bloggers in the scraped posts."
   ]
  },
  {
   "cell_type": "code",
   "execution_count": 10,
   "metadata": {},
   "outputs": [
    {
     "name": "stdout",
     "output_type": "stream",
     "text": [
      "Hashtags    Number of times appeared\n",
      "#dilsefoodie    10\n",
      "#food            8\n",
      "#FoodInsider     7\n",
      "#Plumazing       2\n",
      "#pizza           2\n",
      "dtype: int64\n"
     ]
    },
    {
     "data": {
      "image/png": "[encoded data removed]",
      "text/plain": [
       "<Figure size 432x288 with 1 Axes>"
      ]
     },
     "metadata": {},
     "output_type": "display_data"
    }
   ],
   "source": [
    "top_5_hashtag=hashtag.value_counts()[0:5]# giving top five hashtag\n",
    "print(\"Hashtags    Number of times appeared\")\n",
    "print(top_5_hashtag)\n",
    "import matplotlib.pyplot as plt\n",
    "plt.pie(top_5_hashtag.values,labels=top_5_hashtag.index,autopct=\"%.2f\")\n",
    "plt.show()"
   ]
  },
  {
   "cell_type": "markdown",
   "metadata": {},
   "source": [
    "# ------------------------------------------------------------------------------------------------------------"
   ]
  },
  {
   "cell_type": "markdown",
   "metadata": {},
   "source": [
    "# --------------------------------------------------------------------------------------------------------"
   ]
  },
  {
   "cell_type": "markdown",
   "metadata": {},
   "source": [
    "3. You need to also calculate average followers : likes ratio for the obtained handles.\n",
    "      Followers : Likes ratio is calculated as follows:\n",
    "   3.1 Find out the likes of the top 10 posts of the 5 handles obtained earlier."
   ]
  },
  {
   "cell_type": "code",
   "execution_count": 11,
   "metadata": {},
   "outputs": [
    {
     "name": "stdout",
     "output_type": "stream",
     "text": [
      "foodnetwork  :  2416 19372 4981 3929 6492 13083 29231 37374 7858 3808\n",
      "foodgod  :  5090 10275 21872 36045 5373 21508 40037 7573 32815 14647\n",
      "foodinsider  :  5025 15499 15174 15082 13568 36574 9695 7512 20669 4954\n",
      "dilsefoodie  :  6856 8329 4939 8774 11765 7888 10745 15770 5498 11621\n",
      "foodtalkindia  :  243 2695 3207 2472 2095 2450 475 1140 968 275\n"
     ]
    }
   ],
   "source": [
    "driver.get(\"https://www.instagram.com/\")\n",
    "likes={}# dictionary in which keys is blogger name values is total like in first 10 posts\n",
    "for i in range(5):# this loop for each top 5 bloggers\n",
    "    driver.find_element_by_class_name(\"pbgfb\").click()# locating search bar of instagram\n",
    "    driver.find_element_by_class_name(\"XTCLo\").send_keys(blogger[i])# searching the blogger username and entering into it in next line\n",
    "    enter_to=wait.until(EC.presence_of_element_located((By.CLASS_NAME,\"Ap253\")))\n",
    "\n",
    "    likes[blogger[i]]=[]# entering new keys into likes dictionary\n",
    "    enter_to.click()\n",
    "    time.sleep(3)\n",
    "    post=driver.find_element_by_class_name(\"eLAPa\")# cliking on first post\n",
    "    post.click()\n",
    "    wait=WebDriverWait(driver,3)\n",
    "    for j in range(10):\n",
    "        try:\n",
    "            a=wait.until(EC.presence_of_element_located((By.XPATH,\"//div[contains(@class,'Nm9Fw')]\")))# locating the number of likes, it couldnot locate the action transfer to except section\n",
    "            a=a.text.split(' ')\n",
    "            if(len(a)>2):\n",
    "                a=a[-2]\n",
    "                a=int(a.replace(',',''))# extracting the number of likes\n",
    "                a=a+1\n",
    "\n",
    "            else:\n",
    "                a=a[0]\n",
    "                a=int(a.replace(',',''))\n",
    "            likes[blogger[i]].append(a)# appending the likes into keys\n",
    "            driver.find_element_by_class_name(\"coreSpriteRightPaginationArrow\").click()# clicking for next posts\n",
    "\n",
    "        except:\n",
    "            view=wait.until(EC.presence_of_element_located((By.CLASS_NAME,\"vcOH2\")))# locating the number of view and clicking in next line\n",
    "            view.click()\n",
    "            a=wait.until(EC.presence_of_element_located((By.CLASS_NAME,\"vJRqr\")))# locating the number of likes that appear as pop-up\n",
    "            a=int(a.text.split(\" \")[0].replace(',',''))# extracting the number of likes\n",
    "            likes[blogger[i]].append(a)# appening the number of likes\n",
    "            remove=wait.until(EC.presence_of_element_located((By.CLASS_NAME,\"QhbhU\")))#remving the pop-up in which number of likes appeared\n",
    "            remove.click()\n",
    "\n",
    "            driver.find_element_by_class_name(\"coreSpriteRightPaginationArrow\").click()# clicking for next posts\n",
    "        \n",
    "\n",
    "\n",
    "    driver.get(\"https://www.instagram.com/\")\n",
    "    \n",
    "for i in likes:\n",
    "    print(i ,\" : \",*likes[i])"
   ]
  },
  {
   "cell_type": "markdown",
   "metadata": {},
   "source": [
    "# --------------------------------------------------------------------------------------------------------"
   ]
  },
  {
   "cell_type": "markdown",
   "metadata": {},
   "source": [
    "3. You need to also calculate average followers : likes ratio for the obtained handles.\n",
    "      Followers : Likes ratio is calculated as follows:\n",
    "   3.2 Calculate the average likes for a handle.\n",
    "   "
   ]
  },
  {
   "cell_type": "code",
   "execution_count": 12,
   "metadata": {},
   "outputs": [
    {
     "name": "stdout",
     "output_type": "stream",
     "text": [
      "Blogger       Average Likes\n",
      "\n",
      "foodnetwork      12854.4\n",
      "foodgod          19523.5\n",
      "foodinsider      14375.2\n",
      "dilsefoodie       9218.5\n",
      "foodtalkindia     1602.0\n",
      "dtype: float64\n"
     ]
    }
   ],
   "source": [
    "import pandas as pd\n",
    "avg_likes={}# this dictionary contains blogger name as keys and average likes as values\n",
    "for i in likes:\n",
    "    avg_likes[i]=sum(likes[i])/10\n",
    "print(\"Blogger       Average Likes\")\n",
    "print()\n",
    "avg_likes_series=pd.Series(avg_likes)# converting dictionary into series\n",
    "\n",
    "print(avg_likes_series)"
   ]
  },
  {
   "cell_type": "markdown",
   "metadata": {},
   "source": [
    "# --------------------------------------------------------------------------------------------------------"
   ]
  },
  {
   "cell_type": "markdown",
   "metadata": {},
   "source": [
    "3. You need to also calculate average followers : likes ratio for the obtained handles.\n",
    "      Followers : Likes ratio is calculated as follows:\n",
    "   3.3 Divide the average likes obtained from the number of followers of the handle to get the average followers:like ratio of         each handle."
   ]
  },
  {
   "cell_type": "code",
   "execution_count": 13,
   "metadata": {},
   "outputs": [
    {
     "name": "stdout",
     "output_type": "stream",
     "text": [
      "Blogger        Follower:Average Likes\n",
      "\n",
      "foodnetwork      798.652057\n",
      "foodgod          184.587087\n",
      "foodinsider      151.331808\n",
      "dilsefoodie       52.910886\n",
      "foodtalkindia    185.440699\n",
      "dtype: float64\n"
     ]
    }
   ],
   "source": [
    "followers_to_avg_likes={}# this dictionary contains keys as blogger name and values as number of follower by avg likes\n",
    "j=0\n",
    "for i in avg_likes:\n",
    "    followers_to_avg_likes[i]=followers[j]/avg_likes[i]\n",
    "    j=j+1\n",
    "followers_to_avg_likes_series=pd.Series(followers_to_avg_likes)# convering to series\n",
    "print(\"Blogger        Follower:Average Likes\")\n",
    "print()\n",
    "print(followers_to_avg_likes_series)"
   ]
  },
  {
   "cell_type": "markdown",
   "metadata": {},
   "source": [
    "# --------------------------------------------------------------------------------------------------------"
   ]
  },
  {
   "cell_type": "markdown",
   "metadata": {},
   "source": [
    "3. You need to also calculate average followers : likes ratio for the obtained handles.\n",
    "      Followers : Likes ratio is calculated as follows:\n",
    "   3.4 Create a bar graph to depict the above obtained information."
   ]
  },
  {
   "cell_type": "code",
   "execution_count": 14,
   "metadata": {},
   "outputs": [
    {
     "data": {
      "image/png": "[encoded data removed]",
      "text/plain": [
       "<Figure size 432x288 with 1 Axes>"
      ]
     },
     "metadata": {
      "needs_background": "light"
     },
     "output_type": "display_data"
    }
   ],
   "source": [
    "import matplotlib.pyplot as plt\n",
    "plt.bar(followers_to_avg_likes_series.index,followers_to_avg_likes_series.values)\n",
    "plt.title(\"Follower:Likes\")\n",
    "plt.ylabel(\"Follower:Likes-------------->\")\n",
    "plt.xlabel(\"Bloggers------------->\")\n",
    "plt.show()"
   ]
  },
  {
   "cell_type": "markdown",
   "metadata": {},
   "source": [
    "# --------------------------------------------------------------------------------------------------------"
   ]
  },
  {
   "cell_type": "markdown",
   "metadata": {},
   "source": [
    "# --------------------------------------------------------------------------------------------------------"
   ]
  },
  {
   "cell_type": "code",
   "execution_count": null,
   "metadata": {},
   "outputs": [],
   "source": []
  }
 ],
 "metadata": {
  "kernelspec": {
   "display_name": "Python 3",
   "language": "python",
   "name": "python3"
  },
  "language_info": {
   "codemirror_mode": {
    "name": "ipython",
    "version": 3
   },
   "file_extension": ".py",
   "mimetype": "text/x-python",
   "name": "python",
   "nbconvert_exporter": "python",
   "pygments_lexer": "ipython3",
   "version": "3.7.6"
  }
 },
 "nbformat": 4,
 "nbformat_minor": 4
}
